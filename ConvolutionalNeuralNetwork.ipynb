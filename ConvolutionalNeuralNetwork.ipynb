{
  "nbformat": 4,
  "nbformat_minor": 0,
  "metadata": {
    "colab": {
      "name": "ConvolutionalNeuralNetwork.ipynb",
      "version": "0.3.2",
      "provenance": [],
      "collapsed_sections": []
    },
    "kernelspec": {
      "name": "python3",
      "display_name": "Python 3"
    },
    "accelerator": "GPU"
  },
  "cells": [
    {
      "metadata": {
        "id": "AYCHhDuMh9CJ",
        "colab_type": "code",
        "colab": {
          "base_uri": "https://localhost:8080/",
          "height": 34
        },
        "outputId": "79527f57-b51f-4c76-b774-16c35eaed897"
      },
      "cell_type": "code",
      "source": [
        "from keras.utils import np_utils \n",
        "from keras.datasets import mnist \n",
        "import seaborn as sns\n",
        "from keras.initializers import RandomNormal\n",
        "from keras.models import Sequential\n",
        "from keras.layers import Dense, Dropout, Flatten\n",
        "from keras.layers import Conv2D, MaxPooling2D\n",
        "from keras.layers.normalization import BatchNormalization\n",
        "import keras"
      ],
      "execution_count": 2,
      "outputs": [
        {
          "output_type": "stream",
          "text": [
            "Using TensorFlow backend.\n"
          ],
          "name": "stderr"
        }
      ]
    },
    {
      "metadata": {
        "id": "h2r2nd3TiHJ2",
        "colab_type": "code",
        "outputId": "bffeddcc-47a6-4fc0-9969-860fddbed4bc",
        "colab": {
          "base_uri": "https://localhost:8080/",
          "height": 34
        }
      },
      "cell_type": "code",
      "source": [
        "from keras import backend as K\n",
        "K.tensorflow_backend._get_available_gpus()"
      ],
      "execution_count": 3,
      "outputs": [
        {
          "output_type": "execute_result",
          "data": {
            "text/plain": [
              "['/job:localhost/replica:0/task:0/device:GPU:0']"
            ]
          },
          "metadata": {
            "tags": []
          },
          "execution_count": 3
        }
      ]
    },
    {
      "metadata": {
        "id": "cNw6BFXNiSvh",
        "colab_type": "code",
        "outputId": "c555ea8e-d5cf-4188-97e1-0d6fb1189fd3",
        "colab": {
          "base_uri": "https://localhost:8080/",
          "height": 34
        }
      },
      "cell_type": "code",
      "source": [
        "K.image_data_format()"
      ],
      "execution_count": 4,
      "outputs": [
        {
          "output_type": "execute_result",
          "data": {
            "text/plain": [
              "'channels_last'"
            ]
          },
          "metadata": {
            "tags": []
          },
          "execution_count": 4
        }
      ]
    },
    {
      "metadata": {
        "id": "SYMvEx7HkfuN",
        "colab_type": "code",
        "colab": {
          "base_uri": "https://localhost:8080/",
          "height": 51
        },
        "outputId": "fdfc1531-d09c-44b7-97a6-40ec0ab5b742"
      },
      "cell_type": "code",
      "source": [
        "(x_train, y_train), (x_test, y_test) = mnist.load_data()"
      ],
      "execution_count": 5,
      "outputs": [
        {
          "output_type": "stream",
          "text": [
            "Downloading data from https://s3.amazonaws.com/img-datasets/mnist.npz\n",
            "11493376/11490434 [==============================] - 0s 0us/step\n"
          ],
          "name": "stdout"
        }
      ]
    },
    {
      "metadata": {
        "id": "nrZRYVNjkmYc",
        "colab_type": "code",
        "outputId": "7c85a02f-708e-466f-fb5d-2f7def8bf450",
        "colab": {
          "base_uri": "https://localhost:8080/",
          "height": 34
        }
      },
      "cell_type": "code",
      "source": [
        "x_train.shape"
      ],
      "execution_count": 6,
      "outputs": [
        {
          "output_type": "execute_result",
          "data": {
            "text/plain": [
              "(60000, 28, 28)"
            ]
          },
          "metadata": {
            "tags": []
          },
          "execution_count": 6
        }
      ]
    },
    {
      "metadata": {
        "id": "kKc8poLGkr-j",
        "colab_type": "code",
        "colab": {}
      },
      "cell_type": "code",
      "source": [
        "batch_size = 128\n",
        "num_classes = 10\n",
        "epochs = 12\n",
        "\n",
        "img_rows, img_cols = 28, 28\n",
        "if K.image_data_format() == 'channels_first':\n",
        "    x_train = x_train.reshape(x_train.shape[0], 1, img_rows, img_cols)\n",
        "    x_test = x_test.reshape(x_test.shape[0], 1, img_rows, img_cols)\n",
        "    input_shape = (1, img_rows, img_cols)\n",
        "else:\n",
        "    x_train = x_train.reshape(x_train.shape[0], img_rows, img_cols, 1)\n",
        "    x_test = x_test.reshape(x_test.shape[0], img_rows, img_cols, 1)\n",
        "    input_shape = (img_rows, img_cols, 1)"
      ],
      "execution_count": 0,
      "outputs": []
    },
    {
      "metadata": {
        "id": "YS1Wwmmek3QI",
        "colab_type": "code",
        "outputId": "b34c87c3-6d64-4eb0-f00e-052473c42d3a",
        "colab": {
          "base_uri": "https://localhost:8080/",
          "height": 68
        }
      },
      "cell_type": "code",
      "source": [
        "x_train = x_train.astype('float32')\n",
        "x_test = x_test.astype('float32')\n",
        "x_train /= 255\n",
        "x_test /= 255\n",
        "print('x_train shape:', x_train.shape)\n",
        "print(x_train.shape[0], 'train samples')\n",
        "print(x_test.shape[0], 'test samples')\n",
        "num_classes=10\n",
        "y_train = np_utils.to_categorical(y_train, num_classes)\n",
        "y_test = np_utils.to_categorical(y_test, num_classes)"
      ],
      "execution_count": 8,
      "outputs": [
        {
          "output_type": "stream",
          "text": [
            "x_train shape: (60000, 28, 28, 1)\n",
            "60000 train samples\n",
            "10000 test samples\n"
          ],
          "name": "stdout"
        }
      ]
    },
    {
      "metadata": {
        "id": "pnwQNcRRnoJj",
        "colab_type": "code",
        "outputId": "e27a6160-06b1-43cb-db58-90fa6c5cb26a",
        "colab": {
          "base_uri": "https://localhost:8080/",
          "height": 34
        }
      },
      "cell_type": "code",
      "source": [
        "x_test.shape"
      ],
      "execution_count": 9,
      "outputs": [
        {
          "output_type": "execute_result",
          "data": {
            "text/plain": [
              "(10000, 28, 28, 1)"
            ]
          },
          "metadata": {
            "tags": []
          },
          "execution_count": 9
        }
      ]
    },
    {
      "metadata": {
        "id": "CAXOLcCN5ahT",
        "colab_type": "text"
      },
      "cell_type": "markdown",
      "source": [
        "<h3>Model Discription</h3>\n",
        "<h4>3 Convolutional Layers + 2 Hidden Layers +Kernals  4, +poolsize 2</h4>"
      ]
    },
    {
      "metadata": {
        "id": "Br8_NpH7l-Sn",
        "colab_type": "code",
        "outputId": "4353f138-a435-4aa9-9c7c-104225ee08f3",
        "colab": {
          "base_uri": "https://localhost:8080/",
          "height": 816
        }
      },
      "cell_type": "code",
      "source": [
        "model = Sequential()\n",
        "model.add(Conv2D(32, kernel_size=(4, 4),strides=1,\n",
        "                 activation='relu',\n",
        "                 input_shape=input_shape,padding='same',kernel_initializer='he_normal'))\n",
        "model.add((MaxPooling2D(pool_size=(2, 2))))\n",
        "model.add(BatchNormalization())\n",
        "model.add(Dropout(0.5))\n",
        "model.add(Conv2D(64, kernel_size=(4, 4),strides=1,\n",
        "                 activation='relu',\n",
        "                 kernel_initializer='he_normal'))\n",
        "model.add((MaxPooling2D(pool_size=(2, 2))))\n",
        "model.add(BatchNormalization())\n",
        "model.add(Dropout(0.5))\n",
        "model.add(Conv2D(128, kernel_size=(4, 4),strides=1,\n",
        "                 activation='relu',\n",
        "                 kernel_initializer='he_normal'))\n",
        "model.add((MaxPooling2D(pool_size=(2, 2))))\n",
        "model.add(BatchNormalization())\n",
        "model.add(Dropout(0.5))\n",
        "\n",
        "model.add(Flatten())\n",
        "model.add(Dense(256, activation='relu',kernel_initializer='he_normal'))\n",
        "model.add(BatchNormalization())\n",
        "model.add(Dropout(0.5))\n",
        "model.add(Dense(128, activation='relu',kernel_initializer='he_normal'))\n",
        "model.add(BatchNormalization())\n",
        "model.add(Dropout(0.5))\n",
        "model.add(Dense(num_classes, activation='softmax'))\n",
        "model.summary()\n"
      ],
      "execution_count": 10,
      "outputs": [
        {
          "output_type": "stream",
          "text": [
            "_________________________________________________________________\n",
            "Layer (type)                 Output Shape              Param #   \n",
            "=================================================================\n",
            "conv2d_1 (Conv2D)            (None, 28, 28, 32)        544       \n",
            "_________________________________________________________________\n",
            "max_pooling2d_1 (MaxPooling2 (None, 14, 14, 32)        0         \n",
            "_________________________________________________________________\n",
            "batch_normalization_1 (Batch (None, 14, 14, 32)        128       \n",
            "_________________________________________________________________\n",
            "dropout_1 (Dropout)          (None, 14, 14, 32)        0         \n",
            "_________________________________________________________________\n",
            "conv2d_2 (Conv2D)            (None, 11, 11, 64)        32832     \n",
            "_________________________________________________________________\n",
            "max_pooling2d_2 (MaxPooling2 (None, 5, 5, 64)          0         \n",
            "_________________________________________________________________\n",
            "batch_normalization_2 (Batch (None, 5, 5, 64)          256       \n",
            "_________________________________________________________________\n",
            "dropout_2 (Dropout)          (None, 5, 5, 64)          0         \n",
            "_________________________________________________________________\n",
            "conv2d_3 (Conv2D)            (None, 2, 2, 128)         131200    \n",
            "_________________________________________________________________\n",
            "max_pooling2d_3 (MaxPooling2 (None, 1, 1, 128)         0         \n",
            "_________________________________________________________________\n",
            "batch_normalization_3 (Batch (None, 1, 1, 128)         512       \n",
            "_________________________________________________________________\n",
            "dropout_3 (Dropout)          (None, 1, 1, 128)         0         \n",
            "_________________________________________________________________\n",
            "flatten_1 (Flatten)          (None, 128)               0         \n",
            "_________________________________________________________________\n",
            "dense_1 (Dense)              (None, 256)               33024     \n",
            "_________________________________________________________________\n",
            "batch_normalization_4 (Batch (None, 256)               1024      \n",
            "_________________________________________________________________\n",
            "dropout_4 (Dropout)          (None, 256)               0         \n",
            "_________________________________________________________________\n",
            "dense_2 (Dense)              (None, 128)               32896     \n",
            "_________________________________________________________________\n",
            "batch_normalization_5 (Batch (None, 128)               512       \n",
            "_________________________________________________________________\n",
            "dropout_5 (Dropout)          (None, 128)               0         \n",
            "_________________________________________________________________\n",
            "dense_3 (Dense)              (None, 10)                1290      \n",
            "=================================================================\n",
            "Total params: 234,218\n",
            "Trainable params: 233,002\n",
            "Non-trainable params: 1,216\n",
            "_________________________________________________________________\n"
          ],
          "name": "stdout"
        }
      ]
    },
    {
      "metadata": {
        "id": "sSbqfVDQtZcO",
        "colab_type": "code",
        "outputId": "8d601010-2b78-4a21-c71e-0412884cb66b",
        "colab": {
          "base_uri": "https://localhost:8080/",
          "height": 544
        }
      },
      "cell_type": "code",
      "source": [
        "model.compile(optimizer='adam', loss='categorical_crossentropy', metrics=['accuracy'])\n",
        "\n",
        "history = model.fit(x_train, y_train, batch_size=128, epochs=15, verbose=1, validation_data=(x_test, y_test))"
      ],
      "execution_count": 11,
      "outputs": [
        {
          "output_type": "stream",
          "text": [
            "Train on 60000 samples, validate on 10000 samples\n",
            "Epoch 1/15\n",
            "60000/60000 [==============================] - 17s 282us/step - loss: 0.9867 - acc: 0.6914 - val_loss: 0.1732 - val_acc: 0.9463\n",
            "Epoch 2/15\n",
            "60000/60000 [==============================] - 13s 210us/step - loss: 0.2929 - acc: 0.9106 - val_loss: 0.0888 - val_acc: 0.9725\n",
            "Epoch 3/15\n",
            "60000/60000 [==============================] - 13s 210us/step - loss: 0.1980 - acc: 0.9406 - val_loss: 0.0696 - val_acc: 0.9785\n",
            "Epoch 4/15\n",
            "60000/60000 [==============================] - 13s 210us/step - loss: 0.1612 - acc: 0.9522 - val_loss: 0.0480 - val_acc: 0.9855\n",
            "Epoch 5/15\n",
            "60000/60000 [==============================] - 13s 211us/step - loss: 0.1372 - acc: 0.9591 - val_loss: 0.0432 - val_acc: 0.9865\n",
            "Epoch 6/15\n",
            "60000/60000 [==============================] - 13s 210us/step - loss: 0.1232 - acc: 0.9637 - val_loss: 0.0380 - val_acc: 0.9879\n",
            "Epoch 7/15\n",
            "60000/60000 [==============================] - 13s 208us/step - loss: 0.1114 - acc: 0.9677 - val_loss: 0.0409 - val_acc: 0.9879\n",
            "Epoch 8/15\n",
            "60000/60000 [==============================] - 12s 208us/step - loss: 0.0981 - acc: 0.9702 - val_loss: 0.0331 - val_acc: 0.9896\n",
            "Epoch 9/15\n",
            "60000/60000 [==============================] - 12s 207us/step - loss: 0.0964 - acc: 0.9713 - val_loss: 0.0315 - val_acc: 0.9901\n",
            "Epoch 10/15\n",
            "60000/60000 [==============================] - 13s 208us/step - loss: 0.0862 - acc: 0.9746 - val_loss: 0.0289 - val_acc: 0.9914\n",
            "Epoch 11/15\n",
            "60000/60000 [==============================] - 12s 207us/step - loss: 0.0846 - acc: 0.9747 - val_loss: 0.0299 - val_acc: 0.9912\n",
            "Epoch 12/15\n",
            "60000/60000 [==============================] - 12s 208us/step - loss: 0.0800 - acc: 0.9768 - val_loss: 0.0317 - val_acc: 0.9900\n",
            "Epoch 13/15\n",
            "60000/60000 [==============================] - 12s 207us/step - loss: 0.0756 - acc: 0.9775 - val_loss: 0.0262 - val_acc: 0.9921\n",
            "Epoch 14/15\n",
            "60000/60000 [==============================] - 13s 210us/step - loss: 0.0730 - acc: 0.9782 - val_loss: 0.0263 - val_acc: 0.9920\n",
            "Epoch 15/15\n",
            "60000/60000 [==============================] - 13s 210us/step - loss: 0.0719 - acc: 0.9784 - val_loss: 0.0273 - val_acc: 0.9920\n"
          ],
          "name": "stdout"
        }
      ]
    },
    {
      "metadata": {
        "id": "ds_YvsH2aV59",
        "colab_type": "code",
        "colab": {}
      },
      "cell_type": "code",
      "source": [
        "import matplotlib.pyplot as plt\n",
        "import numpy as np\n",
        "import time\n",
        "def plt_dynamic(x, vy, ty, ax, colors=['b']):\n",
        "  ax.plot(x, vy, 'b', label=\"Validation Loss\")\n",
        "  ax.plot(x, ty, 'r', label=\"Train Loss\")\n",
        "  plt.legend()\n",
        "  fig.canvas.draw()\n",
        "  plt.show()"
      ],
      "execution_count": 0,
      "outputs": []
    },
    {
      "metadata": {
        "id": "qOLfczOhad8D",
        "colab_type": "code",
        "colab": {
          "base_uri": "https://localhost:8080/",
          "height": 361
        },
        "outputId": "91a5f978-e46f-4310-9836-bb5e9b3196ed"
      },
      "cell_type": "code",
      "source": [
        "nb_epoch=15\n",
        "fig,ax = plt.subplots(1,1)\n",
        "ax.set_xlabel('epoch') ; ax.set_ylabel('Categorical Crossentropy Loss')\n",
        "x = list(range(1,nb_epoch+1))\n",
        "vy = history.history['val_loss']\n",
        "ty = history.history['loss']\n",
        "plt_dynamic(x, vy, ty, ax)"
      ],
      "execution_count": 13,
      "outputs": [
        {
          "output_type": "display_data",
          "data": {
            "image/png": "[encoded data removed]",
            "text/plain": [
              "<matplotlib.figure.Figure at 0x7fbf671ddeb8>"
            ]
          },
          "metadata": {
            "tags": []
          }
        }
      ]
    },
    {
      "metadata": {
        "id": "iID2BkKVuDEQ",
        "colab_type": "code",
        "outputId": "527a4d0c-1280-441b-a3df-ee1493a1a3ef",
        "colab": {
          "base_uri": "https://localhost:8080/",
          "height": 51
        }
      },
      "cell_type": "code",
      "source": [
        "score = model.evaluate(x_test, y_test, verbose=0) \n",
        "print('Test score:', score[0]) \n",
        "print('Test accuracy:', score[1])"
      ],
      "execution_count": 0,
      "outputs": [
        {
          "output_type": "stream",
          "text": [
            "Test score: 0.02390892838094733\n",
            "Test accuracy: 0.9931\n"
          ],
          "name": "stdout"
        }
      ]
    },
    {
      "metadata": {
        "id": "TxdTWxtp56gk",
        "colab_type": "text"
      },
      "cell_type": "markdown",
      "source": [
        "<h3>Model Discription</h3>\n",
        "<h4>5 Convolutional Layers + 2 Hidden Layers+ Kernals  4, 3 +poolsize 2</h4>"
      ]
    },
    {
      "metadata": {
        "id": "1dYZuvvCvNcG",
        "colab_type": "code",
        "colab": {
          "base_uri": "https://localhost:8080/",
          "height": 1122
        },
        "outputId": "9ee69125-05f3-46ad-ca0c-fdce2a01d207"
      },
      "cell_type": "code",
      "source": [
        "model = Sequential()\n",
        "model.add(Conv2D(16, kernel_size=(4, 4),strides=1,\n",
        "                 activation='relu',\n",
        "                 input_shape=input_shape,padding='same',kernel_initializer='he_normal'))\n",
        "model.add((MaxPooling2D(pool_size=(2, 2))))\n",
        "model.add(BatchNormalization())\n",
        "model.add(Dropout(0.5))\n",
        "model.add(Conv2D(32, kernel_size=(4, 4),strides=1,\n",
        "                 activation='relu',padding='same',\n",
        "                 kernel_initializer='he_normal'))\n",
        "model.add((MaxPooling2D(pool_size=(2, 2))))\n",
        "model.add(BatchNormalization())\n",
        "model.add(Dropout(0.5))\n",
        "model.add(Conv2D(64, kernel_size=(4, 4),strides=1,\n",
        "                 activation='relu',padding='same',\n",
        "                 kernel_initializer='he_normal'))\n",
        "model.add((MaxPooling2D(pool_size=(2, 2))))\n",
        "model.add(BatchNormalization())\n",
        "model.add(Conv2D(128, kernel_size=(4, 4),strides=1,\n",
        "                 activation='relu',padding='same',\n",
        "                 kernel_initializer='he_normal'))\n",
        "model.add((MaxPooling2D(pool_size=(2, 2))))\n",
        "model.add(BatchNormalization())\n",
        "model.add(Dropout(0.5))\n",
        "model.add(Conv2D(256, kernel_size=(3, 3),strides=1,\n",
        "                 activation='relu',padding='same',\n",
        "                 kernel_initializer='he_normal'))\n",
        "\n",
        "model.add(BatchNormalization())\n",
        "model.add(Dropout(0.5))\n",
        "\n",
        "\n",
        "model.add(Flatten())\n",
        "\n",
        "model.add(Dense(512, activation='relu',kernel_initializer='he_normal'))\n",
        "model.add(BatchNormalization())\n",
        "model.add(Dropout(0.5))\n",
        "\n",
        "model.add(Dense(256, activation='relu',kernel_initializer='he_normal'))\n",
        "model.add(BatchNormalization())\n",
        "model.add(Dropout(0.5))\n",
        "model.add(Dense(128, activation='relu',kernel_initializer='he_normal'))\n",
        "model.add(BatchNormalization())\n",
        "model.add(Dropout(0.5))\n",
        "model.add(Dense(num_classes, activation='softmax'))\n",
        "model.summary()\n"
      ],
      "execution_count": 16,
      "outputs": [
        {
          "output_type": "stream",
          "text": [
            "_________________________________________________________________\n",
            "Layer (type)                 Output Shape              Param #   \n",
            "=================================================================\n",
            "conv2d_14 (Conv2D)           (None, 28, 28, 16)        272       \n",
            "_________________________________________________________________\n",
            "max_pooling2d_14 (MaxPooling (None, 14, 14, 16)        0         \n",
            "_________________________________________________________________\n",
            "batch_normalization_14 (Batc (None, 14, 14, 16)        64        \n",
            "_________________________________________________________________\n",
            "dropout_12 (Dropout)         (None, 14, 14, 16)        0         \n",
            "_________________________________________________________________\n",
            "conv2d_15 (Conv2D)           (None, 14, 14, 32)        8224      \n",
            "_________________________________________________________________\n",
            "max_pooling2d_15 (MaxPooling (None, 7, 7, 32)          0         \n",
            "_________________________________________________________________\n",
            "batch_normalization_15 (Batc (None, 7, 7, 32)          128       \n",
            "_________________________________________________________________\n",
            "dropout_13 (Dropout)         (None, 7, 7, 32)          0         \n",
            "_________________________________________________________________\n",
            "conv2d_16 (Conv2D)           (None, 7, 7, 64)          32832     \n",
            "_________________________________________________________________\n",
            "max_pooling2d_16 (MaxPooling (None, 3, 3, 64)          0         \n",
            "_________________________________________________________________\n",
            "batch_normalization_16 (Batc (None, 3, 3, 64)          256       \n",
            "_________________________________________________________________\n",
            "conv2d_17 (Conv2D)           (None, 3, 3, 128)         131200    \n",
            "_________________________________________________________________\n",
            "max_pooling2d_17 (MaxPooling (None, 1, 1, 128)         0         \n",
            "_________________________________________________________________\n",
            "batch_normalization_17 (Batc (None, 1, 1, 128)         512       \n",
            "_________________________________________________________________\n",
            "dropout_14 (Dropout)         (None, 1, 1, 128)         0         \n",
            "_________________________________________________________________\n",
            "conv2d_18 (Conv2D)           (None, 1, 1, 256)         295168    \n",
            "_________________________________________________________________\n",
            "batch_normalization_18 (Batc (None, 1, 1, 256)         1024      \n",
            "_________________________________________________________________\n",
            "dropout_15 (Dropout)         (None, 1, 1, 256)         0         \n",
            "_________________________________________________________________\n",
            "flatten_2 (Flatten)          (None, 256)               0         \n",
            "_________________________________________________________________\n",
            "dense_4 (Dense)              (None, 512)               131584    \n",
            "_________________________________________________________________\n",
            "batch_normalization_19 (Batc (None, 512)               2048      \n",
            "_________________________________________________________________\n",
            "dropout_16 (Dropout)         (None, 512)               0         \n",
            "_________________________________________________________________\n",
            "dense_5 (Dense)              (None, 256)               131328    \n",
            "_________________________________________________________________\n",
            "batch_normalization_20 (Batc (None, 256)               1024      \n",
            "_________________________________________________________________\n",
            "dropout_17 (Dropout)         (None, 256)               0         \n",
            "_________________________________________________________________\n",
            "dense_6 (Dense)              (None, 128)               32896     \n",
            "_________________________________________________________________\n",
            "batch_normalization_21 (Batc (None, 128)               512       \n",
            "_________________________________________________________________\n",
            "dropout_18 (Dropout)         (None, 128)               0         \n",
            "_________________________________________________________________\n",
            "dense_7 (Dense)              (None, 10)                1290      \n",
            "=================================================================\n",
            "Total params: 770,362\n",
            "Trainable params: 767,578\n",
            "Non-trainable params: 2,784\n",
            "_________________________________________________________________\n"
          ],
          "name": "stdout"
        }
      ]
    },
    {
      "metadata": {
        "id": "bjgwBonPwFXI",
        "colab_type": "code",
        "outputId": "fbaf4e9d-a764-4aa1-af7b-014945583562",
        "colab": {
          "base_uri": "https://localhost:8080/",
          "height": 544
        }
      },
      "cell_type": "code",
      "source": [
        "model.compile(optimizer='adam', loss='categorical_crossentropy', metrics=['accuracy'])\n",
        "\n",
        "history = model.fit(x_train, y_train, batch_size=128, epochs=15, verbose=1, validation_data=(x_test, y_test))"
      ],
      "execution_count": 17,
      "outputs": [
        {
          "output_type": "stream",
          "text": [
            "Train on 60000 samples, validate on 10000 samples\n",
            "Epoch 1/15\n",
            "60000/60000 [==============================] - 19s 322us/step - loss: 1.6354 - acc: 0.4702 - val_loss: 0.9892 - val_acc: 0.7134\n",
            "Epoch 2/15\n",
            "60000/60000 [==============================] - 16s 272us/step - loss: 0.5353 - acc: 0.8315 - val_loss: 0.2760 - val_acc: 0.9258\n",
            "Epoch 3/15\n",
            "60000/60000 [==============================] - 17s 279us/step - loss: 0.3335 - acc: 0.9030 - val_loss: 0.1357 - val_acc: 0.9637\n",
            "Epoch 4/15\n",
            "60000/60000 [==============================] - 16s 272us/step - loss: 0.2535 - acc: 0.9291 - val_loss: 0.0944 - val_acc: 0.9734\n",
            "Epoch 5/15\n",
            "60000/60000 [==============================] - 16s 273us/step - loss: 0.2078 - acc: 0.9415 - val_loss: 0.0869 - val_acc: 0.9766\n",
            "Epoch 6/15\n",
            "60000/60000 [==============================] - 16s 270us/step - loss: 0.1826 - acc: 0.9487 - val_loss: 0.0781 - val_acc: 0.9793\n",
            "Epoch 7/15\n",
            "60000/60000 [==============================] - 16s 269us/step - loss: 0.1606 - acc: 0.9570 - val_loss: 0.0557 - val_acc: 0.9837\n",
            "Epoch 8/15\n",
            "60000/60000 [==============================] - 16s 272us/step - loss: 0.1432 - acc: 0.9610 - val_loss: 0.0545 - val_acc: 0.9852\n",
            "Epoch 9/15\n",
            "60000/60000 [==============================] - 17s 280us/step - loss: 0.1306 - acc: 0.9637 - val_loss: 0.0563 - val_acc: 0.9850\n",
            "Epoch 10/15\n",
            "60000/60000 [==============================] - 17s 288us/step - loss: 0.1233 - acc: 0.9668 - val_loss: 0.0409 - val_acc: 0.9889\n",
            "Epoch 11/15\n",
            "60000/60000 [==============================] - 18s 303us/step - loss: 0.1142 - acc: 0.9692 - val_loss: 0.0404 - val_acc: 0.9890\n",
            "Epoch 12/15\n",
            "60000/60000 [==============================] - 19s 314us/step - loss: 0.1119 - acc: 0.9699 - val_loss: 0.0382 - val_acc: 0.9892\n",
            "Epoch 13/15\n",
            "60000/60000 [==============================] - 19s 309us/step - loss: 0.0982 - acc: 0.9735 - val_loss: 0.0371 - val_acc: 0.9899\n",
            "Epoch 14/15\n",
            "60000/60000 [==============================] - 19s 309us/step - loss: 0.0984 - acc: 0.9737 - val_loss: 0.0344 - val_acc: 0.9911\n",
            "Epoch 15/15\n",
            "60000/60000 [==============================] - 18s 303us/step - loss: 0.0953 - acc: 0.9747 - val_loss: 0.0380 - val_acc: 0.9896\n"
          ],
          "name": "stdout"
        }
      ]
    },
    {
      "metadata": {
        "id": "anGev15tz6Kq",
        "colab_type": "code",
        "outputId": "a50fc4ab-fa72-49a2-83a2-e9e92674b030",
        "colab": {
          "base_uri": "https://localhost:8080/",
          "height": 51
        }
      },
      "cell_type": "code",
      "source": [
        "score = model.evaluate(x_test, y_test, verbose=0) \n",
        "print('Test score:', score[0]) \n",
        "print('Test accuracy:', score[1])"
      ],
      "execution_count": 0,
      "outputs": [
        {
          "output_type": "stream",
          "text": [
            "Test score: 0.029101076152408496\n",
            "Test accuracy: 0.9915\n"
          ],
          "name": "stdout"
        }
      ]
    },
    {
      "metadata": {
        "id": "CDG3KAlNbzMl",
        "colab_type": "code",
        "colab": {
          "base_uri": "https://localhost:8080/",
          "height": 361
        },
        "outputId": "29fbe571-8ee2-4ead-ab48-e350ca40b25a"
      },
      "cell_type": "code",
      "source": [
        "nb_epoch=15\n",
        "fig,ax = plt.subplots(1,1)\n",
        "ax.set_xlabel('epoch') ; ax.set_ylabel('Categorical Crossentropy Loss')\n",
        "x = list(range(1,nb_epoch+1))\n",
        "vy = history.history['val_loss']\n",
        "ty = history.history['loss']\n",
        "plt_dynamic(x, vy, ty, ax)"
      ],
      "execution_count": 18,
      "outputs": [
        {
          "output_type": "display_data",
          "data": {
            "image/png": "[encoded data removed]",
            "text/plain": [
              "<matplotlib.figure.Figure at 0x7fbf622772e8>"
            ]
          },
          "metadata": {
            "tags": []
          }
        }
      ]
    },
    {
      "metadata": {
        "id": "PPLx80ZG6EQ6",
        "colab_type": "text"
      },
      "cell_type": "markdown",
      "source": [
        "<h3>Model Discription</h3>\n",
        "<h4>7  Convolutional Layers + 2 Hidden Layers +  Kernals 5, 4, 2 +poolsize 2</h4>"
      ]
    },
    {
      "metadata": {
        "id": "3mk7wAAf09fc",
        "colab_type": "code",
        "outputId": "643b9f6f-0099-46f9-ce2c-45f6f3487ae5",
        "colab": {
          "base_uri": "https://localhost:8080/",
          "height": 1156
        }
      },
      "cell_type": "code",
      "source": [
        "model = Sequential()\n",
        "model.add(Conv2D(8, kernel_size=(5,5),strides=1,\n",
        "                 activation='relu',\n",
        "                 input_shape=input_shape,padding='same',kernel_initializer='he_normal'))\n",
        "model.add((MaxPooling2D(pool_size=(2, 2))))\n",
        "model.add(Conv2D(16, kernel_size=(5,5),strides=1,\n",
        "                 activation='relu',\n",
        "                 input_shape=input_shape,padding='same',kernel_initializer='he_normal'))\n",
        "model.add((MaxPooling2D(pool_size=(2, 2))))\n",
        "model.add(BatchNormalization())\n",
        "model.add(Dropout(0.5))\n",
        "model.add(Conv2D(32, kernel_size=(4, 4),strides=1,\n",
        "                 activation='relu',padding='same',\n",
        "                 kernel_initializer='he_normal'))\n",
        "model.add((MaxPooling2D(pool_size=(2, 2))))\n",
        "model.add(BatchNormalization())\n",
        "model.add(Dropout(0.5))\n",
        "model.add(Conv2D(64, kernel_size=(4, 4),strides=1,\n",
        "                 activation='relu',padding='same',\n",
        "                 kernel_initializer='he_normal'))\n",
        "model.add((MaxPooling2D(pool_size=(2, 2))))\n",
        "model.add(BatchNormalization())\n",
        "model.add(Conv2D(128, kernel_size=(4, 4),strides=1,\n",
        "                 activation='relu',padding='same',\n",
        "                 kernel_initializer='he_normal'))\n",
        "\n",
        "model.add(BatchNormalization())\n",
        "model.add(Dropout(0.5))\n",
        "model.add(Conv2D(256, kernel_size=(3, 3),strides=1,\n",
        "                 activation='relu',padding='same',\n",
        "                 kernel_initializer='he_normal'))\n",
        "model.add(BatchNormalization())\n",
        "model.add(Dropout(0.5))\n",
        "\n",
        "\n",
        "model.add(Flatten())\n",
        "\n",
        "model.add(Dense(512, activation='relu',kernel_initializer='he_normal'))\n",
        "model.add(BatchNormalization())\n",
        "model.add(Dropout(0.5))\n",
        "\n",
        "model.add(Dense(256, activation='relu',kernel_initializer='he_normal'))\n",
        "model.add(BatchNormalization())\n",
        "model.add(Dropout(0.5))\n",
        "model.add(Dense(128, activation='relu',kernel_initializer='he_normal'))\n",
        "model.add(BatchNormalization())\n",
        "model.add(Dropout(0.5))\n",
        "model.add(Dense(num_classes, activation='softmax'))\n",
        "\n",
        "model.summary()"
      ],
      "execution_count": 19,
      "outputs": [
        {
          "output_type": "stream",
          "text": [
            "_________________________________________________________________\n",
            "Layer (type)                 Output Shape              Param #   \n",
            "=================================================================\n",
            "conv2d_19 (Conv2D)           (None, 28, 28, 8)         208       \n",
            "_________________________________________________________________\n",
            "max_pooling2d_18 (MaxPooling (None, 14, 14, 8)         0         \n",
            "_________________________________________________________________\n",
            "conv2d_20 (Conv2D)           (None, 14, 14, 16)        3216      \n",
            "_________________________________________________________________\n",
            "max_pooling2d_19 (MaxPooling (None, 7, 7, 16)          0         \n",
            "_________________________________________________________________\n",
            "batch_normalization_22 (Batc (None, 7, 7, 16)          64        \n",
            "_________________________________________________________________\n",
            "dropout_19 (Dropout)         (None, 7, 7, 16)          0         \n",
            "_________________________________________________________________\n",
            "conv2d_21 (Conv2D)           (None, 7, 7, 32)          8224      \n",
            "_________________________________________________________________\n",
            "max_pooling2d_20 (MaxPooling (None, 3, 3, 32)          0         \n",
            "_________________________________________________________________\n",
            "batch_normalization_23 (Batc (None, 3, 3, 32)          128       \n",
            "_________________________________________________________________\n",
            "dropout_20 (Dropout)         (None, 3, 3, 32)          0         \n",
            "_________________________________________________________________\n",
            "conv2d_22 (Conv2D)           (None, 3, 3, 64)          32832     \n",
            "_________________________________________________________________\n",
            "max_pooling2d_21 (MaxPooling (None, 1, 1, 64)          0         \n",
            "_________________________________________________________________\n",
            "batch_normalization_24 (Batc (None, 1, 1, 64)          256       \n",
            "_________________________________________________________________\n",
            "conv2d_23 (Conv2D)           (None, 1, 1, 128)         131200    \n",
            "_________________________________________________________________\n",
            "batch_normalization_25 (Batc (None, 1, 1, 128)         512       \n",
            "_________________________________________________________________\n",
            "dropout_21 (Dropout)         (None, 1, 1, 128)         0         \n",
            "_________________________________________________________________\n",
            "conv2d_24 (Conv2D)           (None, 1, 1, 256)         295168    \n",
            "_________________________________________________________________\n",
            "batch_normalization_26 (Batc (None, 1, 1, 256)         1024      \n",
            "_________________________________________________________________\n",
            "dropout_22 (Dropout)         (None, 1, 1, 256)         0         \n",
            "_________________________________________________________________\n",
            "flatten_3 (Flatten)          (None, 256)               0         \n",
            "_________________________________________________________________\n",
            "dense_8 (Dense)              (None, 512)               131584    \n",
            "_________________________________________________________________\n",
            "batch_normalization_27 (Batc (None, 512)               2048      \n",
            "_________________________________________________________________\n",
            "dropout_23 (Dropout)         (None, 512)               0         \n",
            "_________________________________________________________________\n",
            "dense_9 (Dense)              (None, 256)               131328    \n",
            "_________________________________________________________________\n",
            "batch_normalization_28 (Batc (None, 256)               1024      \n",
            "_________________________________________________________________\n",
            "dropout_24 (Dropout)         (None, 256)               0         \n",
            "_________________________________________________________________\n",
            "dense_10 (Dense)             (None, 128)               32896     \n",
            "_________________________________________________________________\n",
            "batch_normalization_29 (Batc (None, 128)               512       \n",
            "_________________________________________________________________\n",
            "dropout_25 (Dropout)         (None, 128)               0         \n",
            "_________________________________________________________________\n",
            "dense_11 (Dense)             (None, 10)                1290      \n",
            "=================================================================\n",
            "Total params: 773,514\n",
            "Trainable params: 770,730\n",
            "Non-trainable params: 2,784\n",
            "_________________________________________________________________\n"
          ],
          "name": "stdout"
        }
      ]
    },
    {
      "metadata": {
        "id": "lk5vinmj2P2r",
        "colab_type": "code",
        "outputId": "1716a69c-fdbb-4e48-dbe4-8f9334cda8bc",
        "colab": {
          "base_uri": "https://localhost:8080/",
          "height": 544
        }
      },
      "cell_type": "code",
      "source": [
        "model.compile(optimizer='adam', loss='categorical_crossentropy', metrics=['accuracy'])\n",
        "\n",
        "history = model.fit(x_train, y_train, batch_size=128, epochs=15, verbose=1, validation_data=(x_test, y_test))"
      ],
      "execution_count": 20,
      "outputs": [
        {
          "output_type": "stream",
          "text": [
            "Train on 60000 samples, validate on 10000 samples\n",
            "Epoch 1/15\n",
            "60000/60000 [==============================] - 21s 351us/step - loss: 2.1477 - acc: 0.2775 - val_loss: 1.1750 - val_acc: 0.5189\n",
            "Epoch 2/15\n",
            "60000/60000 [==============================] - 17s 278us/step - loss: 0.9943 - acc: 0.6363 - val_loss: 0.3476 - val_acc: 0.8767\n",
            "Epoch 3/15\n",
            "60000/60000 [==============================] - 17s 285us/step - loss: 0.5715 - acc: 0.8051 - val_loss: 0.2286 - val_acc: 0.9296\n",
            "Epoch 4/15\n",
            "60000/60000 [==============================] - 17s 284us/step - loss: 0.3900 - acc: 0.8838 - val_loss: 0.1265 - val_acc: 0.9659\n",
            "Epoch 5/15\n",
            "60000/60000 [==============================] - 17s 281us/step - loss: 0.2847 - acc: 0.9235 - val_loss: 0.0958 - val_acc: 0.9733\n",
            "Epoch 6/15\n",
            "60000/60000 [==============================] - 16s 275us/step - loss: 0.2326 - acc: 0.9394 - val_loss: 0.0747 - val_acc: 0.9795\n",
            "Epoch 7/15\n",
            "60000/60000 [==============================] - 17s 283us/step - loss: 0.2020 - acc: 0.9473 - val_loss: 0.0783 - val_acc: 0.9796\n",
            "Epoch 8/15\n",
            "60000/60000 [==============================] - 17s 284us/step - loss: 0.1821 - acc: 0.9531 - val_loss: 0.0561 - val_acc: 0.9845\n",
            "Epoch 9/15\n",
            "60000/60000 [==============================] - 17s 285us/step - loss: 0.1684 - acc: 0.9571 - val_loss: 0.0577 - val_acc: 0.9844\n",
            "Epoch 10/15\n",
            "60000/60000 [==============================] - 17s 284us/step - loss: 0.1557 - acc: 0.9601 - val_loss: 0.0461 - val_acc: 0.9874\n",
            "Epoch 11/15\n",
            "60000/60000 [==============================] - 17s 285us/step - loss: 0.1441 - acc: 0.9630 - val_loss: 0.0452 - val_acc: 0.9884\n",
            "Epoch 12/15\n",
            "60000/60000 [==============================] - 17s 287us/step - loss: 0.1313 - acc: 0.9662 - val_loss: 0.0426 - val_acc: 0.9888\n",
            "Epoch 13/15\n",
            "60000/60000 [==============================] - 17s 287us/step - loss: 0.1279 - acc: 0.9672 - val_loss: 0.0452 - val_acc: 0.9878\n",
            "Epoch 14/15\n",
            "60000/60000 [==============================] - 17s 289us/step - loss: 0.1263 - acc: 0.9676 - val_loss: 0.0459 - val_acc: 0.9884\n",
            "Epoch 15/15\n",
            "60000/60000 [==============================] - 17s 286us/step - loss: 0.1194 - acc: 0.9699 - val_loss: 0.0429 - val_acc: 0.9886\n"
          ],
          "name": "stdout"
        }
      ]
    },
    {
      "metadata": {
        "id": "rlfATAOI4H7A",
        "colab_type": "code",
        "outputId": "d1ca4b94-e3ce-45eb-8442-456b378a8d53",
        "colab": {
          "base_uri": "https://localhost:8080/",
          "height": 51
        }
      },
      "cell_type": "code",
      "source": [
        "score = model.evaluate(x_test, y_test, verbose=0) \n",
        "print('Test score:', score[0]) \n",
        "print('Test accuracy:', score[1])"
      ],
      "execution_count": 21,
      "outputs": [
        {
          "output_type": "stream",
          "text": [
            "Test score: 0.0429166797939688\n",
            "Test accuracy: 0.9886\n"
          ],
          "name": "stdout"
        }
      ]
    },
    {
      "metadata": {
        "id": "l1MAQ7Eyb5IH",
        "colab_type": "code",
        "colab": {
          "base_uri": "https://localhost:8080/",
          "height": 361
        },
        "outputId": "dedd144f-7734-49fd-e8ed-f031a9dce0c4"
      },
      "cell_type": "code",
      "source": [
        "nb_epoch=15\n",
        "fig,ax = plt.subplots(1,1)\n",
        "ax.set_xlabel('epoch') ; ax.set_ylabel('Categorical Crossentropy Loss')\n",
        "x = list(range(1,nb_epoch+1))\n",
        "vy = history.history['val_loss']\n",
        "ty = history.history['loss']\n",
        "plt_dynamic(x, vy, ty, ax)"
      ],
      "execution_count": 22,
      "outputs": [
        {
          "output_type": "display_data",
          "data": {
            "image/png": "[encoded data removed]",
            "text/plain": [
              "<matplotlib.figure.Figure at 0x7fbf4fb6d4e0>"
            ]
          },
          "metadata": {
            "tags": []
          }
        }
      ]
    },
    {
      "metadata": {
        "id": "K1clBVr15Kyx",
        "colab_type": "code",
        "outputId": "80915957-512c-4eef-eed0-4cedae59e878",
        "colab": {
          "base_uri": "https://localhost:8080/",
          "height": 34
        }
      },
      "cell_type": "code",
      "source": [
        "!pip install prettytable"
      ],
      "execution_count": 0,
      "outputs": [
        {
          "output_type": "stream",
          "text": [
            "Requirement already satisfied: prettytable in /usr/local/lib/python3.6/dist-packages (0.7.2)\n"
          ],
          "name": "stdout"
        }
      ]
    },
    {
      "metadata": {
        "id": "kqJNDRAW8jH8",
        "colab_type": "text"
      },
      "cell_type": "markdown",
      "source": [
        "<h1>Report</h1>\n",
        "\n",
        "Convert class variable into categorical data vector\n",
        "\n",
        "Trying out different  Convolution Layers like 3, 5 and 7.\n",
        "\n",
        "Using kernel -size (3,3) ,(4,4) (5,5) and PoolSize of  (2,2) \n",
        "\n",
        "As the data set is not too large adding dropout to ensure that the model does not overfit\n",
        "\n",
        "By flattening the final convolution output and passing into a fully connected nuerral network with a softmax Classifier with 10 outputs\n",
        "\n",
        "As no of convolutional layers increases model seems to be slightly overfitting and hence test accuracy is dropping slightly "
      ]
    },
    {
      "metadata": {
        "id": "PTcQ7nz766-r",
        "colab_type": "code",
        "colab": {}
      },
      "cell_type": "code",
      "source": [
        "from prettytable import PrettyTable"
      ],
      "execution_count": 0,
      "outputs": []
    },
    {
      "metadata": {
        "id": "FGOIpjpT7A2R",
        "colab_type": "code",
        "outputId": "b754dec4-b398-4d92-a11c-726a0c5552ba",
        "colab": {
          "base_uri": "https://localhost:8080/",
          "height": 136
        }
      },
      "cell_type": "code",
      "source": [
        "x = PrettyTable()\n",
        "\n",
        "x.field_names = [\"No of ConvolutionalLayers\", \"No of HiddenLayers\",\"Train loss\",\"Train Acc\",\"Test Loss\",\"Test Acc\"]\n",
        "\n",
        "x.add_row([\"3\", \"2\",  0.0717 , 0.9789 , 0.0239, 0.9931])\n",
        "x.add_row([\"5\", \"2\", 0.0920 , 0.9758 , 0.0291 , 0.9915])\n",
        "x.add_row([\"7\",\"2\" , 0.1150 , 0.9707 , 0.0363, 0.9897])\n",
        "\n",
        "print(x)"
      ],
      "execution_count": 0,
      "outputs": [
        {
          "output_type": "stream",
          "text": [
            "+---------------------------+--------------------+------------+-----------+-----------+----------+\n",
            "| No of ConvolutionalLayers | No of HiddenLayers | Train loss | Train Acc | Test Loss | Test Acc |\n",
            "+---------------------------+--------------------+------------+-----------+-----------+----------+\n",
            "|             3             |         2          |   0.0717   |   0.9789  |   0.0239  |  0.9931  |\n",
            "|             5             |         2          |   0.092    |   0.9758  |   0.0291  |  0.9915  |\n",
            "|             7             |         2          |   0.115    |   0.9707  |   0.0363  |  0.9897  |\n",
            "+---------------------------+--------------------+------------+-----------+-----------+----------+\n"
          ],
          "name": "stdout"
        }
      ]
    }
  ]
}