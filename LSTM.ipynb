{
  "nbformat": 4,
  "nbformat_minor": 0,
  "metadata": {
    "colab": {
      "name": "LSTM.ipynb",
      "version": "0.3.2",
      "provenance": [],
      "collapsed_sections": [
        "rkfz1yx_cwro"
      ],
      "toc_visible": true
    },
    "kernelspec": {
      "name": "python3",
      "display_name": "Python 3"
    },
    "accelerator": "GPU"
  },
  "cells": [
    {
      "metadata": {
        "id": "p_fLgzs0uBB3",
        "colab_type": "text"
      },
      "cell_type": "markdown",
      "source": [
        "<h1>Loading Data</h1>"
      ]
    },
    {
      "metadata": {
        "id": "ATvkpW8oZW6d",
        "colab_type": "code",
        "colab": {}
      },
      "cell_type": "code",
      "source": [
        "from google.colab import files\n",
        "uploads=files.upload()"
      ],
      "execution_count": 0,
      "outputs": []
    },
    {
      "metadata": {
        "id": "gd4y_MCQZaRt",
        "colab_type": "code",
        "outputId": "fc5d2e0c-afb1-4076-c8ad-5fdba5c90659",
        "colab": {
          "base_uri": "https://localhost:8080/",
          "height": 34
        }
      },
      "cell_type": "code",
      "source": [
        "!ls -lha kaggle.json"
      ],
      "execution_count": 2,
      "outputs": [
        {
          "output_type": "stream",
          "text": [
            "-rw-r--r-- 1 root root 70 Dec 23 11:40 kaggle.json\n"
          ],
          "name": "stdout"
        }
      ]
    },
    {
      "metadata": {
        "id": "UHlp2DtNZapP",
        "colab_type": "code",
        "colab": {}
      },
      "cell_type": "code",
      "source": [
        "!mkdir -p ~/.kaggle\n",
        "!cp kaggle.json ~/.kaggle/"
      ],
      "execution_count": 0,
      "outputs": []
    },
    {
      "metadata": {
        "id": "HbMG5mX3ZbLw",
        "colab_type": "code",
        "colab": {}
      },
      "cell_type": "code",
      "source": [
        "!chmod 600 ~/.kaggle/kaggle.json"
      ],
      "execution_count": 0,
      "outputs": []
    },
    {
      "metadata": {
        "id": "vIH3EgbdZzKW",
        "colab_type": "code",
        "colab": {}
      },
      "cell_type": "code",
      "source": [
        "!pip install kaggle"
      ],
      "execution_count": 0,
      "outputs": []
    },
    {
      "metadata": {
        "id": "qVBg7SYHZ342",
        "colab_type": "code",
        "outputId": "342a5955-8c43-402e-9c32-6bde123ebb41",
        "colab": {
          "base_uri": "https://localhost:8080/",
          "height": 68
        }
      },
      "cell_type": "code",
      "source": [
        "!kaggle datasets download -d snap/amazon-fine-food-reviews\n",
        "#!kaggle competitions download -c tgs-salt-identification-challenge"
      ],
      "execution_count": 6,
      "outputs": [
        {
          "output_type": "stream",
          "text": [
            "Downloading amazon-fine-food-reviews.zip to /content\n",
            " 99% 249M/251M [00:05<00:00, 34.7MB/s]\n",
            "100% 251M/251M [00:05<00:00, 44.1MB/s]\n"
          ],
          "name": "stdout"
        }
      ]
    },
    {
      "metadata": {
        "id": "k8fEZZLIaD3c",
        "colab_type": "code",
        "colab": {}
      },
      "cell_type": "code",
      "source": [
        "import zipfile\n",
        "zip_ref = zipfile.ZipFile(\"amazon-fine-food-reviews.zip\", 'r')\n",
        "zip_ref.extractall(\"amazon\")\n",
        "zip_ref.close()"
      ],
      "execution_count": 0,
      "outputs": []
    },
    {
      "metadata": {
        "_cell_guid": "79c7e3d0-c299-4dcb-8224-4455121ee9b0",
        "_uuid": "d629ff2d2480ee46fbb7e2d37f6b5fab8052498a",
        "trusted": true,
        "id": "CN22-HTYcwk-",
        "colab_type": "code",
        "colab": {}
      },
      "cell_type": "code",
      "source": [
        "\n",
        "%matplotlib inline\n",
        "import warnings\n",
        "warnings.filterwarnings(\"ignore\")\n",
        "\n",
        "import sqlite3\n",
        "\n",
        "import pandas as pd\n",
        "import numpy as np\n",
        "import nltk\n",
        "import string\n",
        "import matplotlib.pyplot as plt\n",
        "import seaborn as sns\n",
        "from sklearn.feature_extraction.text import TfidfTransformer\n",
        "from sklearn.feature_extraction.text import TfidfVectorizer\n",
        "\n",
        "from sklearn.feature_extraction.text import CountVectorizer\n",
        "from sklearn.metrics import confusion_matrix\n",
        "from sklearn import metrics\n",
        "from sklearn.metrics import roc_curve, auc\n",
        "from nltk.stem.porter import PorterStemmer\n",
        "\n",
        "import re\n",
        "# Tutorial about Python regular expressions: https://pymotw.com/2/re/\n",
        "import string\n",
        "from nltk.corpus import stopwords\n",
        "from nltk.stem import PorterStemmer\n",
        "from nltk.stem.wordnet import WordNetLemmatizer\n",
        "\n",
        "from gensim.models import Word2Vec\n",
        "from gensim.models import KeyedVectors\n",
        "import pickle\n",
        "\n"
      ],
      "execution_count": 0,
      "outputs": []
    },
    {
      "metadata": {
        "trusted": true,
        "_uuid": "069721cce010b31ed3410ec1061e08a2baa3906b",
        "id": "f3eFV9DscwlM",
        "colab_type": "code",
        "colab": {}
      },
      "cell_type": "code",
      "source": [
        "con = sqlite3.connect('./amazon/database.sqlite') "
      ],
      "execution_count": 0,
      "outputs": []
    },
    {
      "metadata": {
        "trusted": true,
        "_uuid": "9fd46e49cd17c2b5eb0df783fc52a49a59cd9f49",
        "id": "YTZhhL8_cwlZ",
        "colab_type": "code",
        "colab": {}
      },
      "cell_type": "code",
      "source": [
        "filtered_data = pd.read_sql_query(\"\"\" SELECT * FROM Reviews WHERE Score != 3 \"\"\", con)"
      ],
      "execution_count": 0,
      "outputs": []
    },
    {
      "metadata": {
        "id": "m_nsBefxuMKz",
        "colab_type": "text"
      },
      "cell_type": "markdown",
      "source": [
        "<h1>Data Preprocessing</h1>"
      ]
    },
    {
      "metadata": {
        "trusted": true,
        "_uuid": "78a907ae37d8aaf1516c90a8d39daf8cf4381785",
        "id": "1r0ngYS2cwln",
        "colab_type": "code",
        "colab": {}
      },
      "cell_type": "code",
      "source": [
        "def partition(x):\n",
        "    if x < 3:\n",
        "        return 'negative'\n",
        "    return 'positive'"
      ],
      "execution_count": 0,
      "outputs": []
    },
    {
      "metadata": {
        "trusted": true,
        "_uuid": "7f0330ab0d94edeeae7bde788073c813ead31cb3",
        "id": "doOggJU_cwl1",
        "colab_type": "code",
        "colab": {}
      },
      "cell_type": "code",
      "source": [
        "actualScore = filtered_data['Score']\n",
        "positiveNegative = actualScore.map(partition) \n",
        "filtered_data['Score'] = positiveNegative"
      ],
      "execution_count": 0,
      "outputs": []
    },
    {
      "metadata": {
        "trusted": true,
        "_uuid": "87b7bc3b116ca135c26adebdd5a4f7d7ccfb41f2",
        "id": "fIPIT1PScwmi",
        "colab_type": "code",
        "colab": {}
      },
      "cell_type": "code",
      "source": [
        "display= pd.read_sql_query(\"\"\"\n",
        "SELECT *\n",
        "FROM Reviews\n",
        "WHERE Score != 3 AND UserId=\"AR5J8UI46CURR\"\n",
        "ORDER BY ProductID\n",
        "\"\"\", con)\n",
        "display.head()"
      ],
      "execution_count": 0,
      "outputs": []
    },
    {
      "metadata": {
        "trusted": true,
        "_uuid": "fcc5ff0757be963e7a750ae69fed572f5d5637e1",
        "id": "KabGEzzBcwm5",
        "colab_type": "code",
        "colab": {}
      },
      "cell_type": "code",
      "source": [
        "sorted_data=filtered_data.sort_values('ProductId', axis=0, ascending=True, inplace=False, kind='quicksort', na_position='last')"
      ],
      "execution_count": 0,
      "outputs": []
    },
    {
      "metadata": {
        "trusted": true,
        "_uuid": "788dbba35e28781fc3a88b97fb1e55577b864c2a",
        "id": "3gb9LdY9cwnO",
        "colab_type": "code",
        "colab": {}
      },
      "cell_type": "code",
      "source": [
        "final=sorted_data.drop_duplicates(subset={\"UserId\",\"ProfileName\",\"Time\",\"Text\"}, keep='first', inplace=False)\n"
      ],
      "execution_count": 0,
      "outputs": []
    },
    {
      "metadata": {
        "trusted": true,
        "_uuid": "0ffa4c7edb426737ebab6699832d4a8aa4db86f6",
        "id": "0O6O4UHLcwnr",
        "colab_type": "code",
        "outputId": "a57464a6-039f-406e-f628-7127b7c43bf6",
        "colab": {
          "base_uri": "https://localhost:8080/",
          "height": 34
        }
      },
      "cell_type": "code",
      "source": [
        "(final['Id'].size*1.0)/(filtered_data['Id'].size*1.0)*100"
      ],
      "execution_count": 16,
      "outputs": [
        {
          "output_type": "execute_result",
          "data": {
            "text/plain": [
              "69.25890143662969"
            ]
          },
          "metadata": {
            "tags": []
          },
          "execution_count": 16
        }
      ]
    },
    {
      "metadata": {
        "trusted": true,
        "_uuid": "dba635be5a4498c7a5ae95e84debfda9e1e87184",
        "id": "sL4G8f_IcwoS",
        "colab_type": "code",
        "colab": {}
      },
      "cell_type": "code",
      "source": [
        "display= pd.read_sql_query(\"\"\"\n",
        "SELECT *\n",
        "FROM Reviews\n",
        "WHERE Score != 3 AND Id=44737 OR Id=64422\n",
        "ORDER BY ProductID\n",
        "\"\"\", con)\n"
      ],
      "execution_count": 0,
      "outputs": []
    },
    {
      "metadata": {
        "trusted": true,
        "_uuid": "e2ee24362b2a6e545e6eec6029308cae44e5476a",
        "id": "wMBVHImNcwop",
        "colab_type": "code",
        "outputId": "1318374e-4de7-4241-f958-d85739f223f8",
        "colab": {
          "base_uri": "https://localhost:8080/",
          "height": 68
        }
      },
      "cell_type": "code",
      "source": [
        "\n",
        "final['Score'].value_counts()"
      ],
      "execution_count": 18,
      "outputs": [
        {
          "output_type": "execute_result",
          "data": {
            "text/plain": [
              "positive    307063\n",
              "negative     57110\n",
              "Name: Score, dtype: int64"
            ]
          },
          "metadata": {
            "tags": []
          },
          "execution_count": 18
        }
      ]
    },
    {
      "metadata": {
        "id": "yCIOM-NLay-J",
        "colab_type": "code",
        "outputId": "293a8d73-cac7-40c8-c8d0-2ec40e1bd61a",
        "colab": {
          "base_uri": "https://localhost:8080/",
          "height": 68
        }
      },
      "cell_type": "code",
      "source": [
        "nltk.download('stopwords')"
      ],
      "execution_count": 19,
      "outputs": [
        {
          "output_type": "stream",
          "text": [
            "[nltk_data] Downloading package stopwords to /root/nltk_data...\n",
            "[nltk_data]   Unzipping corpora/stopwords.zip.\n"
          ],
          "name": "stdout"
        },
        {
          "output_type": "execute_result",
          "data": {
            "text/plain": [
              "True"
            ]
          },
          "metadata": {
            "tags": []
          },
          "execution_count": 19
        }
      ]
    },
    {
      "metadata": {
        "trusted": true,
        "_uuid": "809f7b422cd843ee3c23d85f63408163b12c10d8",
        "id": "4TcOh27tcwo2",
        "colab_type": "code",
        "colab": {}
      },
      "cell_type": "code",
      "source": [
        "\n",
        "stop = set(stopwords.words('english'))\n",
        "sno = nltk.stem.SnowballStemmer('english')\n",
        "\n",
        "def cleanhtml(sentence): \n",
        "    cleanr = re.compile('<.*?>')\n",
        "    cleantext = re.sub(cleanr, ' ', sentence)\n",
        "    return cleantext\n",
        "def cleanpunc(sentence):\n",
        "    cleaned = re.sub(r'[?|!|\\'|\"|#]',r'',sentence)\n",
        "    cleaned = re.sub(r'[.|,|)|(|\\|/]',r' ',cleaned)\n",
        "    return  cleaned\n"
      ],
      "execution_count": 0,
      "outputs": []
    },
    {
      "metadata": {
        "trusted": true,
        "_uuid": "f7f3561577288e258a3ff4ef763a9bd69a2bf067",
        "id": "sr_sYi_ncwpA",
        "colab_type": "code",
        "colab": {}
      },
      "cell_type": "code",
      "source": [
        "i=0\n",
        "str1=' '\n",
        "final_string=[]\n",
        "all_positive_words=[] # store words from +ve reviews here\n",
        "all_negative_words=[] # store words from -ve reviews here.\n",
        "s=''\n",
        "for sent in final['Text'].values:\n",
        "    filtered_sentence=[]\n",
        "    #print(sent);\n",
        "    sent=cleanhtml(sent) # remove HTMl tags\n",
        "    for w in sent.split():\n",
        "        for cleaned_words in cleanpunc(w).split():\n",
        "            if((cleaned_words.isalpha()) & (len(cleaned_words)>2)):    \n",
        "                if(cleaned_words.lower() not in stop):\n",
        "                    s=(sno.stem(cleaned_words.lower())).encode('utf8')\n",
        "                    filtered_sentence.append(s)\n",
        "                    if (final['Score'].values)[i] == 'positive': \n",
        "                        all_positive_words.append(s) \n",
        "                    if(final['Score'].values)[i] == 'negative':\n",
        "                        all_negative_words.append(s) \n",
        "                else:\n",
        "                    continue\n",
        "            else:\n",
        "                continue \n",
        "    #print(filtered_sentence)\n",
        "    str1 = b\" \".join(filtered_sentence)\n",
        "    \n",
        "    \n",
        "    final_string.append(str1)\n",
        "    i+=1"
      ],
      "execution_count": 0,
      "outputs": []
    },
    {
      "metadata": {
        "trusted": true,
        "_uuid": "e9dcb9ecb3a841b279876648d70f56f7028a3623",
        "id": "Rf_vSJZWcwpO",
        "colab_type": "code",
        "colab": {}
      },
      "cell_type": "code",
      "source": [
        "final['CleanedText']=final_string \n",
        "final['CleanedText']=final['CleanedText'].str.decode(\"utf-8\")"
      ],
      "execution_count": 0,
      "outputs": []
    },
    {
      "metadata": {
        "trusted": true,
        "_uuid": "b64d40199ce25b63b221bda424fc155f967ab63c",
        "id": "4Nz7BFsvcwpm",
        "colab_type": "code",
        "colab": {}
      },
      "cell_type": "code",
      "source": [
        "final_data=final.head(140000)"
      ],
      "execution_count": 0,
      "outputs": []
    },
    {
      "metadata": {
        "trusted": true,
        "_uuid": "3de34285c2f19f8c0fa44bfbea4762609a7f6b91",
        "id": "f5QBaF4Jcwpv",
        "colab_type": "code",
        "colab": {}
      },
      "cell_type": "code",
      "source": [
        "train_data=final_data.head(100000)\n",
        "test_data=final_data[100000:140000]"
      ],
      "execution_count": 0,
      "outputs": []
    },
    {
      "metadata": {
        "id": "DUgHABQ-vww2",
        "colab_type": "code",
        "outputId": "6c0be769-8155-46aa-e248-4c8940c8ce4f",
        "colab": {
          "base_uri": "https://localhost:8080/",
          "height": 34
        }
      },
      "cell_type": "code",
      "source": [
        "train_data.shape"
      ],
      "execution_count": 26,
      "outputs": [
        {
          "output_type": "execute_result",
          "data": {
            "text/plain": [
              "(100000, 11)"
            ]
          },
          "metadata": {
            "tags": []
          },
          "execution_count": 26
        }
      ]
    },
    {
      "metadata": {
        "id": "drHVOYqXVjt0",
        "colab_type": "code",
        "colab": {}
      },
      "cell_type": "code",
      "source": [
        "train_data.head()"
      ],
      "execution_count": 0,
      "outputs": []
    },
    {
      "metadata": {
        "id": "QtkjwKT5V2pT",
        "colab_type": "code",
        "colab": {}
      },
      "cell_type": "code",
      "source": [
        "def transform(x):\n",
        "  if x==\"positive\":\n",
        "    return 1\n",
        "  else:\n",
        "    return 0\n",
        "  "
      ],
      "execution_count": 0,
      "outputs": []
    },
    {
      "metadata": {
        "id": "uor8qP-7WOTr",
        "colab_type": "code",
        "colab": {}
      },
      "cell_type": "code",
      "source": [
        "train_data['Score']=train_data['Score'].apply(transform)\n",
        "test_data['Score']=test_data['Score'].apply(transform)"
      ],
      "execution_count": 0,
      "outputs": []
    },
    {
      "metadata": {
        "id": "Jm1tgujxWrM_",
        "colab_type": "code",
        "colab": {}
      },
      "cell_type": "code",
      "source": [
        "y_train=np.array(train_data['Score'])\n",
        "y_test=np.array(test_data['Score'])"
      ],
      "execution_count": 0,
      "outputs": []
    },
    {
      "metadata": {
        "id": "4QpkdpvN3Fl9",
        "colab_type": "text"
      },
      "cell_type": "markdown",
      "source": [
        "<h1>Preparing Data For DL Model</h1>"
      ]
    },
    {
      "metadata": {
        "id": "2hoVX7JE3Ek4",
        "colab_type": "code",
        "colab": {}
      },
      "cell_type": "code",
      "source": [
        "word_corpus=dict()\n",
        "for sent in train_data['CleanedText']:\n",
        "  words=sent.split()\n",
        "  for word in words:\n",
        "    if word in word_corpus.keys():\n",
        "      word_corpus[word]+=1\n",
        "    else:\n",
        "      word_corpus[word]=1\n",
        "       "
      ],
      "execution_count": 0,
      "outputs": []
    },
    {
      "metadata": {
        "id": "nmVMwB-1-TCz",
        "colab_type": "code",
        "colab": {}
      },
      "cell_type": "code",
      "source": [
        "from operator import itemgetter\n",
        "from collections import OrderedDict\n",
        "sorted_word_corpus = sorted(word_corpus.items(), key=itemgetter(1),reverse=True)"
      ],
      "execution_count": 0,
      "outputs": []
    },
    {
      "metadata": {
        "id": "_9PqBwIpALbU",
        "colab_type": "code",
        "colab": {}
      },
      "cell_type": "code",
      "source": [
        "words=[x[0] for x in sorted_word_corpus]\n",
        "words=words[0:5000]"
      ],
      "execution_count": 0,
      "outputs": []
    },
    {
      "metadata": {
        "id": "u4G2tcG7JzmP",
        "colab_type": "code",
        "outputId": "71dbd2b8-5f61-4427-9b0b-d4886da7560b",
        "colab": {
          "base_uri": "https://localhost:8080/",
          "height": 34
        }
      },
      "cell_type": "code",
      "source": [
        "print(words[0:10])"
      ],
      "execution_count": 33,
      "outputs": [
        {
          "output_type": "stream",
          "text": [
            "['like', 'tast', 'tea', 'good', 'use', 'love', 'product', 'one', 'flavor', 'great']\n"
          ],
          "name": "stdout"
        }
      ]
    },
    {
      "metadata": {
        "id": "0WPxz-8L8tOr",
        "colab_type": "code",
        "colab": {}
      },
      "cell_type": "code",
      "source": [
        "row=[]\n",
        "for sent in train_data['CleanedText']:\n",
        "  _row=[]\n",
        "  w=sent.split()\n",
        "  for word in w:\n",
        "    if word in words:\n",
        "      index=words.index(word)\n",
        "      _row.append(index)\n",
        "  _row=set(_row)\n",
        "  _row=list(_row)\n",
        "  row.append(_row)\n",
        "    "
      ],
      "execution_count": 0,
      "outputs": []
    },
    {
      "metadata": {
        "id": "gZiUpbF6P6jw",
        "colab_type": "code",
        "outputId": "3d5c7993-f630-43ed-dae7-94506bf09593",
        "colab": {
          "base_uri": "https://localhost:8080/",
          "height": 54
        }
      },
      "cell_type": "code",
      "source": [
        "print(row[0])"
      ],
      "execution_count": 35,
      "outputs": [
        {
          "output_type": "stream",
          "text": [
            "[1536, 1282, 5, 11, 527, 788, 31, 938, 816, 1714, 179, 1207, 3259, 2622, 1229, 342, 87, 734, 2016, 98, 227, 1645, 1011, 1913, 1274, 2684]\n"
          ],
          "name": "stdout"
        }
      ]
    },
    {
      "metadata": {
        "id": "HYuSi_jmRSx_",
        "colab_type": "code",
        "colab": {}
      },
      "cell_type": "code",
      "source": [
        "X_train=np.array(row)"
      ],
      "execution_count": 0,
      "outputs": []
    },
    {
      "metadata": {
        "id": "ahbKKNKURfNS",
        "colab_type": "code",
        "colab": {}
      },
      "cell_type": "code",
      "source": [
        "row_test=[]\n",
        "for sent in test_data['CleanedText']:\n",
        "  _row=[]\n",
        "  w=sent.split()\n",
        "  for word in w:\n",
        "    if word in words:\n",
        "      index=words.index(word)\n",
        "      _row.append(index)\n",
        "  _row=set(_row)\n",
        "  _row=list(_row)\n",
        "  row_test.append(_row)\n",
        "    "
      ],
      "execution_count": 0,
      "outputs": []
    },
    {
      "metadata": {
        "id": "iwOX5yBVRwbw",
        "colab_type": "code",
        "colab": {}
      },
      "cell_type": "code",
      "source": [
        "X_test=np.array(row_test)"
      ],
      "execution_count": 0,
      "outputs": []
    },
    {
      "metadata": {
        "id": "MIvWjMkrdAPO",
        "colab_type": "code",
        "outputId": "3eb4fb4c-93fd-47ab-efb9-cc3619b60400",
        "colab": {
          "base_uri": "https://localhost:8080/",
          "height": 51
        }
      },
      "cell_type": "code",
      "source": [
        "print(\"Max Length of words in train data\",np.array([len(x) for x in X_train]).max())\n",
        "print(\"Max Length of words in test data\",np.array([len(x) for x in X_test]).max())\n"
      ],
      "execution_count": 39,
      "outputs": [
        {
          "output_type": "stream",
          "text": [
            "Max Length of words in train data 397\n",
            "Max Length of words in test data 433\n"
          ],
          "name": "stdout"
        }
      ]
    },
    {
      "metadata": {
        "id": "mytObiO5R5Rs",
        "colab_type": "code",
        "outputId": "cbac36ea-e0f3-45b5-936a-cd0726d54686",
        "colab": {
          "base_uri": "https://localhost:8080/",
          "height": 51
        }
      },
      "cell_type": "code",
      "source": [
        "print(X_train.shape)\n",
        "print(X_test.shape)"
      ],
      "execution_count": 40,
      "outputs": [
        {
          "output_type": "stream",
          "text": [
            "(100000,)\n",
            "(40000,)\n"
          ],
          "name": "stdout"
        }
      ]
    },
    {
      "metadata": {
        "id": "UFu_7eEPfRZ0",
        "colab_type": "code",
        "outputId": "5d0fa719-7aa8-4550-9aa3-baa25b2d070b",
        "colab": {
          "base_uri": "https://localhost:8080/",
          "height": 34
        }
      },
      "cell_type": "code",
      "source": [
        "type(X_train[0])"
      ],
      "execution_count": 41,
      "outputs": [
        {
          "output_type": "execute_result",
          "data": {
            "text/plain": [
              "list"
            ]
          },
          "metadata": {
            "tags": []
          },
          "execution_count": 41
        }
      ]
    },
    {
      "metadata": {
        "id": "-j8z7s-Mub9b",
        "colab_type": "text"
      },
      "cell_type": "markdown",
      "source": [
        "<h1>LSTM</h1>"
      ]
    },
    {
      "metadata": {
        "id": "H3sIqLr29Ex9",
        "colab_type": "code",
        "colab": {}
      },
      "cell_type": "code",
      "source": [
        "import numpy\n",
        "from keras.datasets import imdb\n",
        "from keras.models import Sequential\n",
        "from keras.layers import Dense\n",
        "from keras.layers import LSTM\n",
        "from keras.layers.embeddings import Embedding\n",
        "from keras.preprocessing import sequence\n",
        "from keras.layers import Dropout"
      ],
      "execution_count": 0,
      "outputs": []
    },
    {
      "metadata": {
        "id": "w3gGf2MJagOE",
        "colab_type": "code",
        "outputId": "b83ef08d-b8af-4cfb-b868-469160f07ca1",
        "colab": {
          "base_uri": "https://localhost:8080/",
          "height": 34
        }
      },
      "cell_type": "code",
      "source": [
        "from keras import backend as K\n",
        "K.tensorflow_backend._get_available_gpus()"
      ],
      "execution_count": 43,
      "outputs": [
        {
          "output_type": "execute_result",
          "data": {
            "text/plain": [
              "['/job:localhost/replica:0/task:0/device:GPU:0']"
            ]
          },
          "metadata": {
            "tags": []
          },
          "execution_count": 43
        }
      ]
    },
    {
      "metadata": {
        "id": "A6H9okZf4f2c",
        "colab_type": "code",
        "outputId": "fe68b864-7102-4d17-c97d-8502b83ecb09",
        "colab": {
          "base_uri": "https://localhost:8080/",
          "height": 561
        }
      },
      "cell_type": "code",
      "source": [
        "max_review_length = 433\n",
        "X_train = sequence.pad_sequences(X_train, maxlen=max_review_length)\n",
        "X_test = sequence.pad_sequences(X_test, maxlen=max_review_length)\n",
        "\n",
        "print(X_train.shape)\n",
        "print(X_train[1])"
      ],
      "execution_count": 46,
      "outputs": [
        {
          "output_type": "stream",
          "text": [
            "(100000, 433)\n",
            "[   0    0    0    0    0    0    0    0    0    0    0    0    0    0\n",
            "    0    0    0    0    0    0    0    0    0    0    0    0    0    0\n",
            "    0    0    0    0    0    0    0    0    0    0    0    0    0    0\n",
            "    0    0    0    0    0    0    0    0    0    0    0    0    0    0\n",
            "    0    0    0    0    0    0    0    0    0    0    0    0    0    0\n",
            "    0    0    0    0    0    0    0    0    0    0    0    0    0    0\n",
            "    0    0    0    0    0    0    0    0    0    0    0    0    0    0\n",
            "    0    0    0    0    0    0    0    0    0    0    0    0    0    0\n",
            "    0    0    0    0    0    0    0    0    0    0    0    0    0    0\n",
            "    0    0    0    0    0    0    0    0    0    0    0    0    0    0\n",
            "    0    0    0    0    0    0    0    0    0    0    0    0    0    0\n",
            "    0    0    0    0    0    0    0    0    0    0    0    0    0    0\n",
            "    0    0    0    0    0    0    0    0    0    0    0    0    0    0\n",
            "    0    0    0    0    0    0    0    0    0    0    0    0    0    0\n",
            "    0    0    0    0    0    0    0    0    0    0    0    0    0    0\n",
            "    0    0    0    0    0    0    0    0    0    0    0    0    0    0\n",
            "    0    0    0    0    0    0    0    0    0    0    0    0    0    0\n",
            "    0    0    0    0    0    0    0    0    0    0    0    0    0    0\n",
            "    0    0    0    0    0    0    0    0    0    0    0    0    0    0\n",
            "    0    0    0    0    0    0    0    0    0    0    0    0    0    0\n",
            "    0    0    0    0    0    0    0    0    0    0    0    0    0    0\n",
            "    0    0    0    0    0    0    0    0    0    0    0    0    0    0\n",
            "    0    0    0    0    0    0    0    0    0    0    0    0    0    0\n",
            "    0    0    0    0    0    0    0    0    0    0    0    0    0    0\n",
            "    0    0    0    0    0    0    0    0    0    0    0    0    0    0\n",
            "    0    0    0    0    0    0    0    0    0    0    0    0    0    0\n",
            "    0    0    0    0    0    0    0    0    0    0    0    0    0    0\n",
            "    0    0    0    0    0    0    0    0    0    0    0    0    0    0\n",
            "    0    0    0    0    0    0    0    0    0    0    0    0    0    0\n",
            "    0    0    0    0    5   21  150  938  175  561  563   69 2685   76\n",
            "  849  596  342   91  220 1761  228 3562  111 1010  119  253  381]\n"
          ],
          "name": "stdout"
        }
      ]
    },
    {
      "metadata": {
        "id": "tEtXXrlJVIZy",
        "colab_type": "code",
        "colab": {}
      },
      "cell_type": "code",
      "source": [
        "top_words = 5000"
      ],
      "execution_count": 0,
      "outputs": []
    },
    {
      "metadata": {
        "id": "jiiUF8Zi4qBV",
        "colab_type": "code",
        "outputId": "f0884360-9856-4456-9d24-1cfaa861083d",
        "colab": {
          "base_uri": "https://localhost:8080/",
          "height": 255
        }
      },
      "cell_type": "code",
      "source": [
        "embedding_vecor_length = 32\n",
        "model = Sequential()\n",
        "model.add(Embedding(top_words, embedding_vecor_length, input_length=max_review_length))\n",
        "model.add(LSTM(100))\n",
        "model.add(Dense(1, activation='sigmoid'))\n",
        "model.compile(loss='binary_crossentropy', optimizer='adam', metrics=['accuracy'])\n",
        "print(model.summary())"
      ],
      "execution_count": 47,
      "outputs": [
        {
          "output_type": "stream",
          "text": [
            "_________________________________________________________________\n",
            "Layer (type)                 Output Shape              Param #   \n",
            "=================================================================\n",
            "embedding_1 (Embedding)      (None, 433, 32)           160000    \n",
            "_________________________________________________________________\n",
            "lstm_1 (LSTM)                (None, 100)               53200     \n",
            "_________________________________________________________________\n",
            "dense_1 (Dense)              (None, 1)                 101       \n",
            "=================================================================\n",
            "Total params: 213,301\n",
            "Trainable params: 213,301\n",
            "Non-trainable params: 0\n",
            "_________________________________________________________________\n",
            "None\n"
          ],
          "name": "stdout"
        }
      ]
    },
    {
      "metadata": {
        "id": "ZuSeWBefVT4V",
        "colab_type": "code",
        "outputId": "a6e93bda-de9d-4002-c03a-86729daa6b74",
        "colab": {
          "base_uri": "https://localhost:8080/",
          "height": 411
        }
      },
      "cell_type": "code",
      "source": [
        "history = model.fit(X_train, y_train, nb_epoch=10, batch_size=500 ,verbose=1,validation_data=(X_test, y_test))\n",
        "scores = model.evaluate(X_test, y_test, verbose=0)\n",
        "print(\"Accuracy: %.2f%%\" % (scores[1]*100))"
      ],
      "execution_count": 48,
      "outputs": [
        {
          "output_type": "stream",
          "text": [
            "Train on 100000 samples, validate on 40000 samples\n",
            "Epoch 1/10\n",
            "100000/100000 [==============================] - 243s 2ms/step - loss: 0.3040 - acc: 0.8858 - val_loss: 0.2068 - val_acc: 0.9179\n",
            "Epoch 2/10\n",
            "100000/100000 [==============================] - 243s 2ms/step - loss: 0.1858 - acc: 0.9264 - val_loss: 0.2094 - val_acc: 0.9217\n",
            "Epoch 3/10\n",
            "100000/100000 [==============================] - 244s 2ms/step - loss: 0.1749 - acc: 0.9321 - val_loss: 0.2052 - val_acc: 0.9208\n",
            "Epoch 4/10\n",
            "100000/100000 [==============================] - 244s 2ms/step - loss: 0.1700 - acc: 0.9345 - val_loss: 0.2052 - val_acc: 0.9182\n",
            "Epoch 5/10\n",
            "100000/100000 [==============================] - 242s 2ms/step - loss: 0.1652 - acc: 0.9362 - val_loss: 0.2076 - val_acc: 0.9198\n",
            "Epoch 6/10\n",
            "100000/100000 [==============================] - 237s 2ms/step - loss: 0.1603 - acc: 0.9387 - val_loss: 0.2167 - val_acc: 0.9164\n",
            "Epoch 7/10\n",
            "100000/100000 [==============================] - 235s 2ms/step - loss: 0.1561 - acc: 0.9397 - val_loss: 0.2194 - val_acc: 0.9183\n",
            "Epoch 8/10\n",
            "100000/100000 [==============================] - 237s 2ms/step - loss: 0.1511 - acc: 0.9421 - val_loss: 0.2176 - val_acc: 0.9163\n",
            "Epoch 9/10\n",
            "100000/100000 [==============================] - 237s 2ms/step - loss: 0.1469 - acc: 0.9446 - val_loss: 0.2285 - val_acc: 0.9145\n",
            "Epoch 10/10\n",
            "100000/100000 [==============================] - 237s 2ms/step - loss: 0.1417 - acc: 0.9457 - val_loss: 0.2338 - val_acc: 0.9138\n",
            "Accuracy: 91.38%\n"
          ],
          "name": "stdout"
        }
      ]
    },
    {
      "metadata": {
        "id": "m8yFbua286Jh",
        "colab_type": "code",
        "colab": {}
      },
      "cell_type": "code",
      "source": [
        "def plt_dynamic(x, vy, ty):\n",
        "  plt.figure(figsize=(10,5))\n",
        "  plt.plot(x, vy, 'b', label=\"Validation Loss\")\n",
        "  plt.plot(x, ty, 'r', label=\"Train Loss\")\n",
        "  plt.xlabel('Epochs') \n",
        "  plt.ylabel('Binary Crossentropy Loss')\n",
        "  plt.title('Binary Crossentropy Loss VS Epochs')\n",
        "  plt.legend()\n",
        "  plt.show()"
      ],
      "execution_count": 0,
      "outputs": []
    },
    {
      "metadata": {
        "id": "knw9opkUxTHe",
        "colab_type": "code",
        "colab": {
          "base_uri": "https://localhost:8080/",
          "height": 363
        },
        "outputId": "ca7e6e1c-bb8c-49c9-ae49-834a580b21eb"
      },
      "cell_type": "code",
      "source": [
        "model_test = scores[1]\n",
        "model_train = max(history.history['acc'])\n",
        "x = list(range(1,11))\n",
        "vy = history.history['val_loss']\n",
        "ty = history.history['loss']\n",
        "plt_dynamic(x, vy, ty)"
      ],
      "execution_count": 52,
      "outputs": [
        {
          "output_type": "display_data",
          "data": {
            "image/png": "[encoded data removed]",
            "text/plain": [
              "<matplotlib.figure.Figure at 0x7f3fa05f2748>"
            ]
          },
          "metadata": {
            "tags": []
          }
        }
      ]
    },
    {
      "metadata": {
        "id": "p6_1EF-fGoQv",
        "colab_type": "code",
        "colab": {
          "base_uri": "https://localhost:8080/",
          "height": 340
        },
        "outputId": "821c31f2-d31e-4810-fd38-478296483dc5"
      },
      "cell_type": "code",
      "source": [
        "embedding_vecor_length = 32\n",
        "model = Sequential()\n",
        "model.add(Embedding(top_words, embedding_vecor_length, input_length=max_review_length))\n",
        "model.add(LSTM(100,return_sequences=True,  recurrent_dropout=0.5))\n",
        "model.add(Dropout(0.5))\n",
        "model.add(LSTM(100 , recurrent_dropout=0.5))\n",
        "model.add(Dropout(0.5))\n",
        "model.add(Dense(1, activation='sigmoid'))\n",
        "model.summary()\n",
        "\n"
      ],
      "execution_count": 63,
      "outputs": [
        {
          "output_type": "stream",
          "text": [
            "_________________________________________________________________\n",
            "Layer (type)                 Output Shape              Param #   \n",
            "=================================================================\n",
            "embedding_6 (Embedding)      (None, 433, 32)           160000    \n",
            "_________________________________________________________________\n",
            "lstm_9 (LSTM)                (None, 433, 100)          53200     \n",
            "_________________________________________________________________\n",
            "dropout_1 (Dropout)          (None, 433, 100)          0         \n",
            "_________________________________________________________________\n",
            "lstm_10 (LSTM)               (None, 100)               80400     \n",
            "_________________________________________________________________\n",
            "dropout_2 (Dropout)          (None, 100)               0         \n",
            "_________________________________________________________________\n",
            "dense_5 (Dense)              (None, 1)                 101       \n",
            "=================================================================\n",
            "Total params: 293,701\n",
            "Trainable params: 293,701\n",
            "Non-trainable params: 0\n",
            "_________________________________________________________________\n"
          ],
          "name": "stdout"
        }
      ]
    },
    {
      "metadata": {
        "id": "1ryKR8qhHV5d",
        "colab_type": "code",
        "colab": {
          "base_uri": "https://localhost:8080/",
          "height": 394
        },
        "outputId": "3dd5e8a4-96a1-47b4-d0e6-8c1efe038df9"
      },
      "cell_type": "code",
      "source": [
        "model.compile(loss='binary_crossentropy', optimizer='adam', metrics=['accuracy'])\n",
        "history = model.fit(X_train, y_train, nb_epoch=10, batch_size=500 ,verbose=1,validation_data=(X_test, y_test))"
      ],
      "execution_count": 64,
      "outputs": [
        {
          "output_type": "stream",
          "text": [
            "Train on 100000 samples, validate on 40000 samples\n",
            "Epoch 1/10\n",
            "100000/100000 [==============================] - 506s 5ms/step - loss: 0.2974 - acc: 0.8899 - val_loss: 0.2134 - val_acc: 0.9144\n",
            "Epoch 2/10\n",
            "100000/100000 [==============================] - 512s 5ms/step - loss: 0.1987 - acc: 0.9228 - val_loss: 0.2096 - val_acc: 0.9180\n",
            "Epoch 3/10\n",
            "100000/100000 [==============================] - 522s 5ms/step - loss: 0.1862 - acc: 0.9278 - val_loss: 0.2118 - val_acc: 0.9199\n",
            "Epoch 4/10\n",
            "100000/100000 [==============================] - 522s 5ms/step - loss: 0.1800 - acc: 0.9308 - val_loss: 0.2132 - val_acc: 0.9189\n",
            "Epoch 5/10\n",
            "100000/100000 [==============================] - 523s 5ms/step - loss: 0.1749 - acc: 0.9328 - val_loss: 0.2160 - val_acc: 0.9186\n",
            "Epoch 6/10\n",
            "100000/100000 [==============================] - 517s 5ms/step - loss: 0.1708 - acc: 0.9343 - val_loss: 0.2189 - val_acc: 0.9160\n",
            "Epoch 7/10\n",
            "100000/100000 [==============================] - 517s 5ms/step - loss: 0.1667 - acc: 0.9367 - val_loss: 0.2219 - val_acc: 0.9142\n",
            "Epoch 8/10\n",
            "100000/100000 [==============================] - 515s 5ms/step - loss: 0.1627 - acc: 0.9375 - val_loss: 0.2241 - val_acc: 0.9177\n",
            "Epoch 9/10\n",
            "100000/100000 [==============================] - 518s 5ms/step - loss: 0.1579 - acc: 0.9396 - val_loss: 0.2336 - val_acc: 0.9161\n",
            "Epoch 10/10\n",
            "100000/100000 [==============================] - 527s 5ms/step - loss: 0.1544 - acc: 0.9409 - val_loss: 0.2407 - val_acc: 0.9149\n"
          ],
          "name": "stdout"
        }
      ]
    },
    {
      "metadata": {
        "id": "PWcJjxNiK5MW",
        "colab_type": "code",
        "colab": {
          "base_uri": "https://localhost:8080/",
          "height": 363
        },
        "outputId": "1d49e97e-f3be-4910-ea0d-6b6aad524ee4"
      },
      "cell_type": "code",
      "source": [
        "model_test = scores[1]\n",
        "model_train = max(history.history['acc'])\n",
        "x = list(range(1,11))\n",
        "vy = history.history['val_loss']\n",
        "ty = history.history['loss']\n",
        "plt_dynamic(x, vy, ty)"
      ],
      "execution_count": 65,
      "outputs": [
        {
          "output_type": "display_data",
          "data": {
            "image/png": "[encoded data removed]",
            "text/plain": [
              "<matplotlib.figure.Figure at 0x7f3f8ba2e320>"
            ]
          },
          "metadata": {
            "tags": []
          }
        }
      ]
    },
    {
      "metadata": {
        "id": "qzlpex9gcR-I",
        "colab_type": "text"
      },
      "cell_type": "markdown",
      "source": [
        "# Report"
      ]
    },
    {
      "metadata": {
        "id": "9peRuDTqsGWp",
        "colab_type": "text"
      },
      "cell_type": "markdown",
      "source": [
        "Classifying Positive and Negative Reviews on  Amazon Fine Food Reviews dataset\n",
        "\n",
        "Sort the dataset on the basis of time and after that find vocabulary for all the reviews in the dataset\n",
        "\n",
        "computing  frequencies for each word of vocabulary\n",
        "\n",
        "Index each word in the decreasing order of frequencies \n",
        "\n",
        "Convert the dataset into imdb dataset format\n",
        "\n",
        "Select 0.1million ponts as  training_data 40K as test_data \n",
        "\n",
        "add Zero  padding is added to  each review intpo sequences of length 433 to perform batch wise input into LSTM\n",
        "\n",
        "Implementing RNN with 1 , 2 LSTM layers\n",
        "\n",
        "Draw Binary Crossentropy Loss VS No.of Epochs plot"
      ]
    },
    {
      "metadata": {
        "id": "khWl40eveT0K",
        "colab_type": "code",
        "colab": {}
      },
      "cell_type": "code",
      "source": [
        "from prettytable import PrettyTable"
      ],
      "execution_count": 0,
      "outputs": []
    },
    {
      "metadata": {
        "id": "eEqbhZ6IcU1a",
        "colab_type": "code",
        "outputId": "0db1a010-27b1-4661-df70-32c8c3bc78a0",
        "colab": {
          "base_uri": "https://localhost:8080/",
          "height": 119
        }
      },
      "cell_type": "code",
      "source": [
        "x = PrettyTable()\n",
        "\n",
        "x.field_names = [\"NO OF LSTM Layers\",  \"Metrics\"]\n",
        "\n",
        "x.add_row([1, \"loss: 0.1544 - acc: 0.9409 - val_loss: 0.2407 - val_acc: 0.9149\"])\n",
        "x.add_row([2, \"loss: 0.1417 - acc: 0.9457 - val_loss: 0.2338 - val_acc: 0.9138\"])\n",
        "\n",
        "print(x)"
      ],
      "execution_count": 68,
      "outputs": [
        {
          "output_type": "stream",
          "text": [
            "+-------------------+-----------------------------------------------------------------+\n",
            "| NO OF LSTM Layers |                             Metrics                             |\n",
            "+-------------------+-----------------------------------------------------------------+\n",
            "|         1         | loss: 0.1544 - acc: 0.9409 - val_loss: 0.2407 - val_acc: 0.9149 |\n",
            "|         2         | loss: 0.1417 - acc: 0.9457 - val_loss: 0.2338 - val_acc: 0.9138 |\n",
            "+-------------------+-----------------------------------------------------------------+\n"
          ],
          "name": "stdout"
        }
      ]
    },
    {
      "metadata": {
        "id": "JX_PYV5mtzjj",
        "colab_type": "code",
        "colab": {}
      },
      "cell_type": "code",
      "source": [
        ""
      ],
      "execution_count": 0,
      "outputs": []
    }
  ]
}